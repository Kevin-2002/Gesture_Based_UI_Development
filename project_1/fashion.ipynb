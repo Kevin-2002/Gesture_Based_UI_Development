{
 "cells": [
  {
   "cell_type": "markdown",
   "metadata": {},
   "source": [
    "## ${\\color{hotpink} \\text{Imports}}$"
   ]
  },
  {
   "cell_type": "code",
   "execution_count": 2,
   "metadata": {},
   "outputs": [],
   "source": [
    "# for data manipulation\n",
    "import glob\n",
    "import numpy as np\n",
    "from PIL import Image\n",
    "\n",
    "# for preprocessing of data\n",
    "from sklearn.pipeline import make_pipeline\n",
    "from sklearn.preprocessing import MinMaxScaler, StandardScaler\n",
    "\n",
    "# all of the classifier methods from the labs (only required 3 of 5)\n",
    "# from sklearn.linear_model import LinearRegression\n",
    "from sklearn.linear_model import LogisticRegression\n",
    "from sklearn.neighbors import KNeighborsClassifier\n",
    "from sklearn.svm import SVC\n",
    "# from sklearn.model_selection import KFold\n",
    "# from sklearn.naive_bayes import GaussianNB\n",
    "\n",
    "# for finding the best hyperparameters\n",
    "from sklearn.model_selection import GridSearchCV\n",
    "\n",
    "# for evaluation of the models\n",
    "from sklearn.model_selection import cross_val_score\n",
    "from sklearn.model_selection import train_test_split"
   ]
  },
  {
   "cell_type": "markdown",
   "metadata": {},
   "source": [
    "## ${\\color{hotpink} \\text{Load the dataset into X}}$\n",
    "${\\color{lightgreen} \\text{As the dataset is structured similar to the digits dataset from lab 5, the same method of preparing the data will be used}}$"
   ]
  },
  {
   "cell_type": "code",
   "execution_count": 3,
   "metadata": {},
   "outputs": [],
   "source": [
    "# get all of the filepaths into a list\n",
    "image_filepath = glob.glob('./fashion/*/*.png')\n",
    "\n",
    "# read them in the proper order\n",
    "image_filepath.sort()\n",
    "\n",
    "# output so large that it does not print but if you copy the blank \n",
    "# output and paste it into a text editor you will see the list of \n",
    "# filepaths have been stored correctly in order\n",
    "# print(image_filepath)\n",
    "\n",
    "# read in the images into a 3-dimensional array\n",
    "X = np.array([Image.open(image) for image in image_filepath])\n",
    "\n",
    "# note: shape=(70000, 28, 28), dtype=uint8)\n",
    "# turn the array into a 2-dimensional array\n",
    "X = X.reshape(70000, 28*28)"
   ]
  },
  {
   "cell_type": "markdown",
   "metadata": {},
   "source": [
    "## ${\\color{hotpink} \\text{Get the y values for each X}}$\n",
    "${\\color{lightgreen} \\text{Which is the folder/label it is under.}}$"
   ]
  },
  {
   "cell_type": "code",
   "execution_count": 4,
   "metadata": {},
   "outputs": [
    {
     "data": {
      "text/plain": [
       "array(['ankleboot', 'ankleboot', 'ankleboot', ..., 'tshirt-top',\n",
       "       'tshirt-top', 'tshirt-top'], shape=(70000,), dtype='<U10')"
      ]
     },
     "execution_count": 4,
     "metadata": {},
     "output_type": "execute_result"
    }
   ],
   "source": [
    "# . is at split index 0, fashion is at 1 and the category is at 2\n",
    "y = np.array([image.split(\"/\")[2] for image in image_filepath])\n",
    "y"
   ]
  }
 ],
 "metadata": {
  "kernelspec": {
   "display_name": "Python 3",
   "language": "python",
   "name": "python3"
  },
  "language_info": {
   "codemirror_mode": {
    "name": "ipython",
    "version": 3
   },
   "file_extension": ".py",
   "mimetype": "text/x-python",
   "name": "python",
   "nbconvert_exporter": "python",
   "pygments_lexer": "ipython3",
   "version": "3.12.1"
  }
 },
 "nbformat": 4,
 "nbformat_minor": 2
}
