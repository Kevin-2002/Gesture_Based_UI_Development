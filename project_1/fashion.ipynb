{
 "cells": [
  {
   "cell_type": "markdown",
   "metadata": {},
   "source": [
    "## ${\\color{hotpink} \\text{Imports}}$"
   ]
  },
  {
   "cell_type": "code",
   "execution_count": 1,
   "metadata": {},
   "outputs": [],
   "source": [
    "# for data manipulation\n",
    "import glob\n",
    "import numpy as np\n",
    "from PIL import Image\n",
    "from sklearn.preprocessing import LabelEncoder # needed for y values for knn to prevent ValueError when fitting\n",
    "\n",
    "# for preprocessing of data\n",
    "from sklearn.pipeline import make_pipeline\n",
    "from sklearn.preprocessing import MinMaxScaler, StandardScaler\n",
    "\n",
    "# all of the classifier methods from the labs (only required 3 of 5)\n",
    "# from sklearn.linear_model import LinearRegression\n",
    "from sklearn.linear_model import LogisticRegression\n",
    "from sklearn.neighbors import KNeighborsClassifier\n",
    "from sklearn.svm import SVC\n",
    "# from sklearn.model_selection import KFold\n",
    "# from sklearn.naive_bayes import GaussianNB\n",
    "\n",
    "# for finding the best hyperparameters\n",
    "from sklearn.model_selection import GridSearchCV\n",
    "\n",
    "\n",
    "# for evaluation of the models\n",
    "from sklearn.model_selection import cross_val_score\n",
    "from sklearn.model_selection import train_test_split"
   ]
  },
  {
   "cell_type": "markdown",
   "metadata": {},
   "source": [
    "## ${\\color{hotpink} \\text{Load the dataset into X}}$\n",
    "${\\color{lightgreen} \\text{As the dataset is structured similar to the digits dataset from lab 5, the same method of preparing the data will be used}}$  \n",
    "Referenced lab for data extraction  \n",
    "https://github.com/Kevin-2002/Gesture_Based_UI_Development/blob/main/week5/digits.ipynb"
   ]
  },
  {
   "cell_type": "code",
   "execution_count": 2,
   "metadata": {},
   "outputs": [],
   "source": [
    "# get all of the filepaths into a list\n",
    "image_filepath = glob.glob('./fashion/*/*.png')\n",
    "\n",
    "# read them in the proper order\n",
    "image_filepath.sort()\n",
    "\n",
    "# output so large that it does not print but if you copy the blank \n",
    "# output and paste it into a text editor you will see the list of \n",
    "# filepaths have been stored correctly in order\n",
    "# print(image_filepath)\n",
    "\n",
    "# read in the images into a 3-dimensional array\n",
    "X = np.array([Image.open(image) for image in image_filepath])\n",
    "\n",
    "# note: shape=(70000, 28, 28), dtype=uint8)\n",
    "# turn the array into a 2-dimensional array\n",
    "X = X.reshape(70000, 28*28)\n",
    "# X[1]"
   ]
  },
  {
   "cell_type": "markdown",
   "metadata": {},
   "source": [
    "## ${\\color{hotpink} \\text{Get the y values for each X}}$\n",
    "${\\color{lightgreen} \\text{Which is the folder/label it is under.}}$"
   ]
  },
  {
   "cell_type": "code",
   "execution_count": 3,
   "metadata": {},
   "outputs": [
    {
     "data": {
      "text/plain": [
       "array(['ankleboot', 'ankleboot', 'ankleboot', ..., 'tshirt-top',\n",
       "       'tshirt-top', 'tshirt-top'], shape=(70000,), dtype='<U10')"
      ]
     },
     "execution_count": 3,
     "metadata": {},
     "output_type": "execute_result"
    }
   ],
   "source": [
    "# . is at split index 0, fashion is at 1 and the category is at 2\n",
    "y = np.array([image.split(\"/\")[2] for image in image_filepath])\n",
    "y"
   ]
  },
  {
   "cell_type": "markdown",
   "metadata": {},
   "source": [
    "## ${\\color{hotpink} \\text{Preprocess the data}}$\n",
    ">${\\color{lightgreen} \\text{Usually preprocessing images includes grayscaling and}}$  \n",
    ">${\\color{lightgreen} \\text{resizing images to prepare data.}}$  \n",
    ">${\\color{lightgreen} \\text{Those steps were already completed in the initial DataSet.}}$  \n",
    "\n",
    "${\\color{lightgreen} \\text{Some models require normalization, also known as data scaling. SVM is an example.}}$  "
   ]
  },
  {
   "cell_type": "code",
   "execution_count": 4,
   "metadata": {},
   "outputs": [],
   "source": [
    "# normalize the data\n",
    "# according to the documentation 255 is the max value for the pixel (white), so we just divide by 255\n",
    "# https://pillow.readthedocs.io/en/stable/reference/Image.html  \n",
    "X = np.divide(X, 255)\n",
    "# X[1]\n",
    "\n"
   ]
  },
  {
   "cell_type": "markdown",
   "metadata": {},
   "source": [
    "## ${\\color{hotpink} \\text{Split data into train and test sets}}$\n",
    "${\\color{lightgreen} \\text{No need to split another time for validation, as Cross-Validation method will be used instead.}}$  "
   ]
  },
  {
   "cell_type": "code",
   "execution_count": 5,
   "metadata": {},
   "outputs": [],
   "source": [
    "X_train, X_test, y_train, y_test = train_test_split(X, y, test_size=0.2, random_state=401808)#G00 401808"
   ]
  },
  {
   "cell_type": "markdown",
   "metadata": {},
   "source": [
    "## Ignore the GridSearchCV section as it is too computationally expensive to run\n",
    "------"
   ]
  },
  {
   "cell_type": "markdown",
   "metadata": {},
   "source": [
    "## ${\\color{hotpink} \\text{Find optimal HyperParamaters, via GridSearchCV}}$\n"
   ]
  },
  {
   "cell_type": "code",
   "execution_count": 6,
   "metadata": {},
   "outputs": [],
   "source": [
    "# K-NearestClassifier paramaters search\n",
    "# https://scikit-learn.org/stable/modules/generated/sklearn.neighbors.KNeighborsClassifier.html\n",
    "param_grid_knn = {\n",
    "    'n_neighbors': [3, 5, 7], # number of neighbors\n",
    "    'weights': ['distance'],  # weighting scheme 'uniform', \n",
    "    'metric': ['manhattan']  # distance metric 'euclidean', \n",
    "}\n",
    "\n",
    "# Support Vector Machine paramaters search\n",
    "# https://scikit-learn.org/stable/modules/generated/sklearn.svm.SVC.html\n",
    "param_grid_svc = {\n",
    "    'C': [0.1, 1, 10],  # regularization parameter\n",
    "    'gamma': [1, 0.1],  # kernel coefficient\n",
    "    'kernel': ['rbf', 'poly']  # kernel type\n",
    "}\n",
    "\n",
    "# Logistic Regression paramaters search\n",
    "# https://scikit-learn.org/stable/modules/generated/sklearn.linear_model.LogisticRegression.html\n",
    "param_grid_logistic = {\n",
    "    'C': [0.1, 1],  # regularization parameter\n",
    "    'solver': ['newton-cg', 'lbfgs', 'liblinear', 'sag', 'saga'],  # optimization algorithm\n",
    "}"
   ]
  },
  {
   "cell_type": "markdown",
   "metadata": {},
   "source": [
    "${\\color{lightgreen} \\text{Run the GridSearchCV method now that it is set up.}}$  \n",
    "\n",
    "------"
   ]
  },
  {
   "cell_type": "code",
   "execution_count": 7,
   "metadata": {},
   "outputs": [],
   "source": [
    "# encode string labels for knn fit to work\n",
    "# https://scikit-learn.org/stable/modules/generated/sklearn.preprocessing.LabelEncoder.html\n",
    "label_encoder = LabelEncoder()\n",
    "y_train_encoded = label_encoder.fit_transform(y_train)"
   ]
  },
  {
   "cell_type": "code",
   "execution_count": 8,
   "metadata": {},
   "outputs": [],
   "source": [
    "# instantiate the classifiers\n",
    "knn_model = KNeighborsClassifier()\n",
    "svc_model = SVC()\n",
    "logistic_model = make_pipeline(StandardScaler(), LogisticRegression(max_iter=1000))"
   ]
  },
  {
   "cell_type": "code",
   "execution_count": 9,
   "metadata": {},
   "outputs": [],
   "source": [
    "knn_model = knn_model.fit(X_train, y_train_encoded)"
   ]
  },
  {
   "cell_type": "code",
   "execution_count": null,
   "metadata": {},
   "outputs": [],
   "source": [
    "svc_model = svc_model.fit(X_train, y_train)"
   ]
  },
  {
   "cell_type": "code",
   "execution_count": 12,
   "metadata": {},
   "outputs": [],
   "source": [
    "logistic_model = logistic_model.fit(X_train, y_train)"
   ]
  },
  {
   "cell_type": "code",
   "execution_count": 13,
   "metadata": {},
   "outputs": [
    {
     "name": "stdout",
     "output_type": "stream",
     "text": [
      "0.8987678571428571\n",
      "0.8532500000000001\n"
     ]
    }
   ],
   "source": [
    "print(knn_model.score(X_train, y_train_encoded))\n",
    "print(cross_val_score(knn_model, X_train, y_train_encoded).mean())"
   ]
  },
  {
   "cell_type": "code",
   "execution_count": null,
   "metadata": {},
   "outputs": [
    {
     "name": "stdout",
     "output_type": "stream",
     "text": [
      "0.910625\n"
     ]
    }
   ],
   "source": [
    "print(svc_model.score(X_train, y_train))\n",
    "print(cross_val_score(svc_model, X_train, y_train).mean())"
   ]
  },
  {
   "cell_type": "code",
   "execution_count": null,
   "metadata": {},
   "outputs": [],
   "source": [
    "print(logistic_model.score(X_train, y_train))\n",
    "print(cross_val_score(logistic_model, X_train, y_train).mean())"
   ]
  }
 ],
 "metadata": {
  "kernelspec": {
   "display_name": "Python 3",
   "language": "python",
   "name": "python3"
  },
  "language_info": {
   "codemirror_mode": {
    "name": "ipython",
    "version": 3
   },
   "file_extension": ".py",
   "mimetype": "text/x-python",
   "name": "python",
   "nbconvert_exporter": "python",
   "pygments_lexer": "ipython3",
   "version": "3.12.1"
  }
 },
 "nbformat": 4,
 "nbformat_minor": 2
}
